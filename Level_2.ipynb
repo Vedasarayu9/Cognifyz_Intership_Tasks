{
 "cells": [
  {
   "cell_type": "markdown",
   "id": "1ea4530b",
   "metadata": {},
   "source": [
    "# Task 1"
   ]
  },
  {
   "cell_type": "code",
   "execution_count": 5,
   "id": "89965513",
   "metadata": {},
   "outputs": [
    {
     "name": "stdout",
     "output_type": "stream",
     "text": [
      "Enter a numner:4\n",
      "Too low\n",
      "Enter a numner:10\n",
      "Too low\n",
      "Enter a numner:40\n",
      "Two High\n",
      "Enter a numner:20\n",
      "Two High\n",
      "Enter a numner:15\n",
      "Too low\n",
      "Enter a numner:16\n",
      "Too low\n",
      "Enter a numner:17\n",
      "your guess is correct\n"
     ]
    }
   ],
   "source": [
    "import random\n",
    "a=random.randint(1,100)\n",
    "while True:\n",
    "    try:\n",
    "        guess=int(input(\"Enter a numner:\"))\n",
    "        if(guess==a):\n",
    "            print(\"your guess is correct\")\n",
    "            break\n",
    "        elif(guess<a):\n",
    "            print(\"Too low\")\n",
    "        else:\n",
    "            print(\"Two High\")\n",
    "    except ValueError:\n",
    "            print(\"Invalid input\")"
   ]
  },
  {
   "cell_type": "markdown",
   "id": "45645d12",
   "metadata": {},
   "source": [
    "# Task 2"
   ]
  },
  {
   "cell_type": "code",
   "execution_count": 6,
   "id": "505bd4ff",
   "metadata": {},
   "outputs": [
    {
     "name": "stdout",
     "output_type": "stream",
     "text": [
      "Enter a minimum number:1\n",
      "Enter a maximum number:15\n",
      "guess a number between 1 and 15:4\n",
      "Too low\n",
      "guess a number between 1 and 15:6\n",
      "Your guess is correct\n"
     ]
    }
   ],
   "source": [
    "import random\n",
    "min_num=int(input(\"Enter a minimum number:\"))\n",
    "max_num=int(input(\"Enter a maximum number:\"))\n",
    "a=random.randint(min_num,max_num)\n",
    "while True:\n",
    "    try:\n",
    "        guess=int(input(f\"guess a number between {min_num} and {max_num}:\"))\n",
    "        if guess==a:\n",
    "            print(\"Your guess is correct\")\n",
    "            break\n",
    "        elif guess<a:\n",
    "            print(\"Too low\")\n",
    "        else:\n",
    "            print(\"Too High\")\n",
    "    except ValueError:\n",
    "        print(f\"Invalid number\")"
   ]
  },
  {
   "cell_type": "markdown",
   "id": "04830bdd",
   "metadata": {},
   "source": [
    "# Task 3"
   ]
  },
  {
   "cell_type": "code",
   "execution_count": 7,
   "id": "74afc2a0",
   "metadata": {},
   "outputs": [
    {
     "name": "stdout",
     "output_type": "stream",
     "text": [
      "Enter password:Password@123456\n",
      "strong password\n"
     ]
    }
   ],
   "source": [
    "import re\n",
    "def password_strength(password):\n",
    "    if len(password)<8:\n",
    "        return(\"Weak password it should contain atleast 8 characters\")\n",
    "    if not any(a.isdigit() for a in password):\n",
    "        return(\"weak password it should contain atleast 1 digit\")\n",
    "    if not any(a.islower() for a in password):\n",
    "        return(\"weak password it should contain atleast 1 lower case letter\")\n",
    "    if not any(a.isupper() for a in password):\n",
    "        return(\"weak password it should contain atleast 1 upper case letter\")\n",
    "    if not re.search(r'[(){}\\\\//<>;:*&^%$#@!]',password):\n",
    "        return(\"weak password it should contain atleast one special character\")\n",
    "    return(\"strong password\")\n",
    "password=input(\"Enter password:\")\n",
    "result=password_strength(password)\n",
    "print(result)"
   ]
  },
  {
   "cell_type": "markdown",
   "id": "8598b557",
   "metadata": {},
   "source": [
    "# Task 4"
   ]
  },
  {
   "cell_type": "code",
   "execution_count": 9,
   "id": "a3562bfb",
   "metadata": {},
   "outputs": [
    {
     "name": "stdout",
     "output_type": "stream",
     "text": [
      "Enter a number:5\n",
      "Fibonacci sequence is:\n",
      "0\n",
      "1\n",
      "1\n",
      "2\n",
      "3\n"
     ]
    }
   ],
   "source": [
    "def recur_fibonacci(n):\n",
    "    if n<=1:\n",
    "        return n\n",
    "    else:\n",
    "        return(recur_fibonacci(n-1)+recur_fibonacci(n-2))\n",
    "m=int(input(\"Enter a number:\"))\n",
    "if m<=0:\n",
    "    print(\"Enter a positive no.\")\n",
    "else:\n",
    "    print(\"Fibonacci sequence is:\")\n",
    "    for i in range(m):\n",
    "        print(recur_fibonacci(i))"
   ]
  },
  {
   "cell_type": "markdown",
   "id": "de59be86",
   "metadata": {},
   "source": [
    "# Task 5"
   ]
  },
  {
   "cell_type": "code",
   "execution_count": 19,
   "id": "8883eb58",
   "metadata": {},
   "outputs": [
    {
     "name": "stdout",
     "output_type": "stream",
     "text": [
      "at: 1\n",
      "completed: 1\n",
      "congnifyz: 1\n",
      "glad: 1\n",
      "helloworld: 1\n",
      "i: 1\n",
      "i'm: 1\n",
      "internship: 1\n",
      "my: 1\n",
      "say: 1\n",
      "that: 1\n",
      "to: 1\n"
     ]
    }
   ],
   "source": [
    "def word_count_occur(file_path):\n",
    "    word_count = {}\n",
    "    with open(file_path, 'r') as file:\n",
    "        text = file.read()\n",
    "    words = text.split()\n",
    "    for word in words:\n",
    "        word = word.strip('.,!?\":;()[]{}')\n",
    "        word = word.lower()\n",
    "        if word in word_count:\n",
    "            word_count[word] += 1\n",
    "        else:\n",
    "            word_count[word] = 1\n",
    "    return word_count\n",
    "def display_word_counts(word_count):\n",
    "    for word in sorted(word_count.keys()):\n",
    "        print(f\"{word}: {word_count[word]}\")\n",
    "def main():\n",
    "    file_path =\"C:/Users/vedas/Cognifyz_tasks/level2_task5_congnifyz.txt\"\n",
    "    word_count = word_count_occur(file_path)\n",
    "    display_word_counts(word_count)\n",
    "    \n",
    "if __name__ == \"__main__\":\n",
    "    main()"
   ]
  },
  {
   "cell_type": "code",
   "execution_count": null,
   "id": "36bfbf87",
   "metadata": {},
   "outputs": [],
   "source": []
  }
 ],
 "metadata": {
  "kernelspec": {
   "display_name": "Python 3 (ipykernel)",
   "language": "python",
   "name": "python3"
  },
  "language_info": {
   "codemirror_mode": {
    "name": "ipython",
    "version": 3
   },
   "file_extension": ".py",
   "mimetype": "text/x-python",
   "name": "python",
   "nbconvert_exporter": "python",
   "pygments_lexer": "ipython3",
   "version": "3.10.9"
  }
 },
 "nbformat": 4,
 "nbformat_minor": 5
}
