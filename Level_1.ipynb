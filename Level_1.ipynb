{
 "cells": [
  {
   "cell_type": "markdown",
   "id": "d2c00cbe",
   "metadata": {},
   "source": [
    "# Task 1"
   ]
  },
  {
   "cell_type": "code",
   "execution_count": 2,
   "id": "91df0d98",
   "metadata": {},
   "outputs": [
    {
     "name": "stdout",
     "output_type": "stream",
     "text": [
      "Please Enter a string: veda\n",
      "adev \n"
     ]
    }
   ],
   "source": [
    "def reverse(a):\n",
    "    x=a[::-1]\n",
    "    return x\n",
    "a=str(input('Please Enter a string:'))\n",
    "print(reverse(a))"
   ]
  },
  {
   "cell_type": "markdown",
   "id": "ae8eed53",
   "metadata": {},
   "source": [
    "# Task 2"
   ]
  },
  {
   "cell_type": "code",
   "execution_count": 3,
   "id": "2a3aaf5d",
   "metadata": {},
   "outputs": [
    {
     "name": "stdout",
     "output_type": "stream",
     "text": [
      "enter a number:35\n",
      "please enter the unit of measurement:31\n",
      "Please enter a valid unit of measurement\n"
     ]
    }
   ],
   "source": [
    "m=float(input('enter a number:'))\n",
    "s=input('please enter the unit of measurement:')\n",
    "tc=((m-32)*5)/9\n",
    "tf=(((9*m)/5)+32)\n",
    "if s=='c':\n",
    "    print('The converted fahrenheit temperature of given celsius temp:',tf)\n",
    "elif s=='f':\n",
    "    print('The converted celsius temperature of given fahrenheit tempertaure: ',tc)\n",
    "else:\n",
    "    print('Please enter a valid unit of measurement')"
   ]
  },
  {
   "cell_type": "markdown",
   "id": "de8024c3",
   "metadata": {},
   "source": [
    "# Task 3"
   ]
  },
  {
   "cell_type": "code",
   "execution_count": 4,
   "id": "e0938bf3",
   "metadata": {},
   "outputs": [
    {
     "name": "stdout",
     "output_type": "stream",
     "text": [
      "Enter an email id:dhongarivedasarayu21aiml@student.vardhaman.org\n",
      "False\n"
     ]
    }
   ],
   "source": [
    "import re\n",
    "def is_valid_email(email):\n",
    "    email_pattern = r\"^[a-z]+@[gmail.com]\"\n",
    "    if re.match(email_pattern, email):\n",
    "        return True\n",
    "    else:\n",
    "        return False\n",
    "email=str(input(\"Enter an email id:\"))\n",
    "ans=is_valid_email(email)\n",
    "print(ans)"
   ]
  },
  {
   "cell_type": "markdown",
   "id": "d854e575",
   "metadata": {},
   "source": [
    "# Task 4"
   ]
  },
  {
   "cell_type": "code",
   "execution_count": 5,
   "id": "2ce8a21c",
   "metadata": {},
   "outputs": [
    {
     "name": "stdout",
     "output_type": "stream",
     "text": [
      "Enter the first number:20\n",
      "Enter the second number:21\n",
      "enter an operator:+\n",
      "The result of m+n is: 41\n"
     ]
    }
   ],
   "source": [
    "m=int(input('Enter the first number:'))\n",
    "n=int(input('Enter the second number:'))\n",
    "z=input('enter an operator:')\n",
    "if z=='+':\n",
    "    print('The result of m+n is:',m+n)\n",
    "elif z=='-':\n",
    "    print('The result of m-n is:',m-n)\n",
    "elif z=='*':\n",
    "    print('The result of m*n is:',m*n)\n",
    "elif z=='/':\n",
    "    print('The result of m/n is:',m/n)\n",
    "elif z=='%':\n",
    "    print('The result of m%n is:',m%n)\n",
    "else:\n",
    "    print('Enter the valid operator')"
   ]
  },
  {
   "cell_type": "markdown",
   "id": "df8f265d",
   "metadata": {},
   "source": [
    "# Task 5"
   ]
  },
  {
   "cell_type": "code",
   "execution_count": 6,
   "id": "f516ef62",
   "metadata": {},
   "outputs": [
    {
     "name": "stdout",
     "output_type": "stream",
     "text": [
      "Enter a String:amma\n",
      "Yes it is Palindrome\n"
     ]
    }
   ],
   "source": [
    "def pal(m):\n",
    "    return m==m[::-1]\n",
    "m=str(input(\"Enter a String:\"))\n",
    "x=pal(m)\n",
    "if x:\n",
    "    print(\"Yes it is Palindrome\")\n",
    "else:\n",
    "    print(\"No it is not a palindrome\")"
   ]
  }
 ],
 "metadata": {
  "kernelspec": {
   "display_name": "Python 3 (ipykernel)",
   "language": "python",
   "name": "python3"
  },
  "language_info": {
   "codemirror_mode": {
    "name": "ipython",
    "version": 3
   },
   "file_extension": ".py",
   "mimetype": "text/x-python",
   "name": "python",
   "nbconvert_exporter": "python",
   "pygments_lexer": "ipython3",
   "version": "3.10.9"
  }
 },
 "nbformat": 4,
 "nbformat_minor": 5
}
